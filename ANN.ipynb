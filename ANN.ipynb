{
  "nbformat": 4,
  "nbformat_minor": 0,
  "metadata": {
    "kernelspec": {
      "display_name": "Python 3",
      "language": "python",
      "name": "python3"
    },
    "language_info": {
      "codemirror_mode": {
        "name": "ipython",
        "version": 3
      },
      "file_extension": ".py",
      "mimetype": "text/x-python",
      "name": "python",
      "nbconvert_exporter": "python",
      "pygments_lexer": "ipython3",
      "version": "3.8.3"
    },
    "colab": {
      "provenance": [],
      "collapsed_sections": [],
      "include_colab_link": true
    }
  },
  "cells": [
    {
      "cell_type": "markdown",
      "metadata": {
        "id": "view-in-github",
        "colab_type": "text"
      },
      "source": [
        "<a href=\"https://colab.research.google.com/github/labujaber1/AIPrimaIndiansExercise/blob/main/ANN.ipynb\" target=\"_parent\"><img src=\"https://colab.research.google.com/assets/colab-badge.svg\" alt=\"Open In Colab\"/></a>"
      ]
    },
    {
      "cell_type": "markdown",
      "metadata": {
        "id": "cgTLyVhEMCZV"
      },
      "source": [
        "# Artificial Neural Networks Exercise ( Classification of Diabetes Patients )"
      ]
    },
    {
      "cell_type": "markdown",
      "source": [],
      "metadata": {
        "id": "3DIgaC08fDg4"
      }
    },
    {
      "cell_type": "markdown",
      "source": [],
      "metadata": {
        "id": "dOWjikMCfD-Q"
      }
    },
    {
      "cell_type": "markdown",
      "source": [
        "# New Section"
      ],
      "metadata": {
        "id": "cg_vanrLfNau"
      }
    },
    {
      "cell_type": "markdown",
      "metadata": {
        "id": "KM5fW4TMMCZX"
      },
      "source": [
        "In this tutorial, you will discover how to create your first deep learning neural network model in Python using Keras.\n",
        "There is not a lot of code required, but we are going to step over it slowly so that you will know how to create your own models in the future.\n",
        "\n",
        "The steps you are going to cover in this tutorial are as follows:\n",
        "\n",
        "    Load Data.\n",
        "\n",
        "    Define Keras Model.\n",
        "\n",
        "    Compile Keras Model.\n",
        "\n",
        "    Fit Keras Model.\n",
        "\n",
        "    Evaluate Keras Model.\n",
        "\n",
        "    Make Predictions"
      ]
    },
    {
      "cell_type": "markdown",
      "metadata": {
        "id": "2gMvblILMCZX"
      },
      "source": [
        "###########################################################################################"
      ]
    },
    {
      "cell_type": "markdown",
      "metadata": {
        "id": "PBt-19O0MCZX"
      },
      "source": [
        "We will use the NumPy library to load our dataset and we will use two classes from the Keras library to define our model.\n",
        "\n",
        "The imports required are listed below."
      ]
    },
    {
      "cell_type": "code",
      "metadata": {
        "id": "4Zzi9d8xMCZY"
      },
      "source": [
        "# first neural network with keras tutorial\n",
        "from numpy import loadtxt\n",
        "from keras.models import Sequential\n",
        "from keras.layers import Dense\n",
        "import pandas as pd\n",
        "import numpy as np"
      ],
      "execution_count": null,
      "outputs": []
    },
    {
      "cell_type": "markdown",
      "metadata": {
        "id": "xtC67oV-MCZY"
      },
      "source": [
        "In this tutorial, we are going to use the Pima Indians onset of diabetes dataset. This is a standard machine learning dataset from the UCI Machine Learning repository. It describes patient medical record data for Pima Indians and whether they had an onset of diabetes within five years.\n",
        "\n",
        "As such, it is a binary classification problem (onset of diabetes as 1 or not as 0). All of the input variables that describe each patient are numerical. This makes it easy to use directly with neural networks that expect numerical input and output values, and ideal for our first neural network in Keras."
      ]
    },
    {
      "cell_type": "markdown",
      "metadata": {
        "id": "skVVNDYdMCZY"
      },
      "source": [
        "# Load the Dataset"
      ]
    },
    {
      "cell_type": "markdown",
      "source": [
        "# where to upload dataset csv"
      ],
      "metadata": {
        "id": "axxevyArvvV0"
      }
    },
    {
      "cell_type": "code",
      "metadata": {
        "colab": {
          "base_uri": "https://localhost:8080/",
          "height": 239
        },
        "id": "NhHYBF-yMCZY",
        "outputId": "a59549b6-7296-4dac-9bc8-06b33e71bfac"
      },
      "source": [
        "# load the dataset\n",
        "dataset = loadtxt('pima-indians-diabetes.csv', delimiter=',')\n",
        "df = pd.read_csv('pima-indians-diabetes.csv', sep=',', \n",
        "                 names=[\"No pregnant\", \"Plasma glucose\", \"Diastolic blood\", \"Triceps skin thickness\",\n",
        "                       \"2-Hour serum insulin\",\"BMI\",\"Diabetes pedigree\",\"Age\",\"Class variable\"])\n",
        "# split into input (X) and output (y) variables\n",
        "X = dataset[:,0:8]\n",
        "y = dataset[:,8]\n",
        "df"
      ],
      "execution_count": 1,
      "outputs": [
        {
          "output_type": "error",
          "ename": "NameError",
          "evalue": "ignored",
          "traceback": [
            "\u001b[0;31m---------------------------------------------------------------------------\u001b[0m",
            "\u001b[0;31mNameError\u001b[0m                                 Traceback (most recent call last)",
            "\u001b[0;32m<ipython-input-1-e09461c0e5be>\u001b[0m in \u001b[0;36m<module>\u001b[0;34m\u001b[0m\n\u001b[1;32m      1\u001b[0m \u001b[0;31m# load the dataset\u001b[0m\u001b[0;34m\u001b[0m\u001b[0;34m\u001b[0m\u001b[0;34m\u001b[0m\u001b[0m\n\u001b[0;32m----> 2\u001b[0;31m \u001b[0mdataset\u001b[0m \u001b[0;34m=\u001b[0m \u001b[0mloadtxt\u001b[0m\u001b[0;34m(\u001b[0m\u001b[0;34m'pima-indians-diabetes.csv'\u001b[0m\u001b[0;34m,\u001b[0m \u001b[0mdelimiter\u001b[0m\u001b[0;34m=\u001b[0m\u001b[0;34m','\u001b[0m\u001b[0;34m)\u001b[0m\u001b[0;34m\u001b[0m\u001b[0;34m\u001b[0m\u001b[0m\n\u001b[0m\u001b[1;32m      3\u001b[0m df = pd.read_csv('pima-indians-diabetes.csv', sep=',', \n\u001b[1;32m      4\u001b[0m                  names=[\"No pregnant\", \"Plasma glucose\", \"Diastolic blood\", \"Triceps skin thickness\",\n\u001b[1;32m      5\u001b[0m                        \"2-Hour serum insulin\",\"BMI\",\"Diabetes pedigree\",\"Age\",\"Class variable\"])\n",
            "\u001b[0;31mNameError\u001b[0m: name 'loadtxt' is not defined"
          ]
        }
      ]
    },
    {
      "cell_type": "markdown",
      "metadata": {
        "id": "-4hLQSsAMCZZ"
      },
      "source": [
        "The variables can be summarized as follows:\n",
        "\n",
        "Input Variables (X):\n",
        "\n",
        "    Number of times pregnant\n",
        "\n",
        "    Plasma glucose concentration a 2 hours in an oral glucose tolerance test\n",
        "\n",
        "    Diastolic blood pressure (mm Hg)\n",
        "\n",
        "    Triceps skin fold thickness (mm)\n",
        "\n",
        "    2-Hour serum insulin (mu U/ml)\n",
        "\n",
        "    Body mass index (weight in kg/(height in m)^2)\n",
        "\n",
        "    Diabetes pedigree function\n",
        "\n",
        "    Age (years)\n",
        "\n",
        "Output Variables (y):\n",
        "\n",
        "    Class variable (0 or 1)"
      ]
    },
    {
      "cell_type": "markdown",
      "metadata": {
        "id": "x8uo9Bv_MCZZ"
      },
      "source": [
        "Models in Keras are defined as a sequence of layers.\n",
        "\n",
        "We create a Sequential model and add layers one at a time until we are happy with our network architecture.\n",
        "\n",
        "The first thing to get right is to ensure the input layer has the right number of input features. This can be specified when creating the first layer with the input_dim argument and setting it to 8 for the 8 input variables.\n",
        "\n",
        "In this example, we will use a fully-connected network structure with three layers.\n",
        "\n",
        "Fully connected layers are defined using the Dense class. We can specify the number of neurons or nodes in the layer as the first argument, and specify the activation function using the activation argument.\n",
        "\n",
        "We will use the rectified linear unit activation function referred to as ReLU on the first two layers and the Sigmoid function in the output layer.\n",
        "\n",
        "It used to be the case that Sigmoid and Tanh activation functions were preferred for all layers. These days, better performance is achieved using the ReLU activation function. We use a sigmoid on the output layer to ensure our network output is between 0 and 1 and easy to map to either a probability of class 1 or snap to a hard classification of either class with a default threshold of 0.5.\n",
        "\n",
        "\n",
        "We can piece it all together by adding each layer:\n",
        "\n",
        "    The model expects rows of data with 8 variables (the input_dim=8 argument)\n",
        "    The first hidden layer has 12 nodes and uses the relu activation function.\n",
        "    The second hidden layer has 8 nodes and uses the relu activation function.\n",
        "    The output layer has one node and uses the sigmoid activation function."
      ]
    },
    {
      "cell_type": "code",
      "metadata": {
        "id": "sJS9uxqlMCZa"
      },
      "source": [
        "model = Sequential()\n",
        "model.add(Dense(12, input_dim=8, activation='relu'))\n",
        "model.add(Dense(8, activation='relu'))\n",
        "model.add(Dense(8, activation='relu'))\n",
        "model.add(Dense(1, activation='sigmoid'))"
      ],
      "execution_count": null,
      "outputs": []
    },
    {
      "cell_type": "markdown",
      "metadata": {
        "id": "Mq8G74z2MCZa"
      },
      "source": [
        "When compiling, we must specify some additional properties required when training the network. Remember training a network means finding the best set of weights to map inputs to outputs in our dataset.\n",
        "\n",
        "We must specify the loss function to use to evaluate a set of weights, the optimizer is used to search through different weights for the network and any optional metrics we would like to collect and report during training.\n",
        "\n",
        "This loss is for a binary classification problems and is defined in Keras as “binary_crossentropy“. \n",
        "\n",
        "We will define the optimizer as the efficient stochastic gradient descent algorithm “adam“. This is a popular version of gradient descent because it automatically tunes itself and gives good results in a wide range of problems."
      ]
    },
    {
      "cell_type": "code",
      "metadata": {
        "id": "cL9lkPoPMCZb"
      },
      "source": [
        "# compile the keras model\n",
        "model.compile(loss='binary_crossentropy', optimizer='adam', metrics=['accuracy'])"
      ],
      "execution_count": null,
      "outputs": []
    },
    {
      "cell_type": "markdown",
      "metadata": {
        "id": "EnicP6VLMCZb"
      },
      "source": [
        "Now it is time to execute the model on some data.\n",
        "\n",
        "We can train or fit our model on our loaded data by calling the fit() function on the model.\n",
        "\n",
        "Training occurs over epochs and each epoch is split into batches.\n",
        "\n",
        "    Epoch: One pass through all of the rows in the training dataset.\n",
        "    Batch: One or more samples considered by the model within an epoch before weights are updated.\n"
      ]
    },
    {
      "cell_type": "code",
      "metadata": {
        "colab": {
          "base_uri": "https://localhost:8080/"
        },
        "id": "Ko7FbUCUMCZb",
        "outputId": "ca74fe6f-f20f-4a88-9011-ec27355a34e9"
      },
      "source": [
        "# fit the keras model on the dataset\n",
        "history = model.fit(X, y, epochs=150, batch_size=10)"
      ],
      "execution_count": null,
      "outputs": [
        {
          "output_type": "stream",
          "name": "stdout",
          "text": [
            "Epoch 1/150\n",
            "77/77 [==============================] - 0s 1ms/step - loss: 0.4332 - accuracy: 0.7930\n",
            "Epoch 2/150\n",
            "77/77 [==============================] - 0s 1ms/step - loss: 0.4336 - accuracy: 0.8047\n",
            "Epoch 3/150\n",
            "77/77 [==============================] - 0s 1ms/step - loss: 0.4218 - accuracy: 0.7943\n",
            "Epoch 4/150\n",
            "77/77 [==============================] - 0s 2ms/step - loss: 0.4228 - accuracy: 0.7943\n",
            "Epoch 5/150\n",
            "77/77 [==============================] - 0s 1ms/step - loss: 0.4387 - accuracy: 0.7917\n",
            "Epoch 6/150\n",
            "77/77 [==============================] - 0s 1ms/step - loss: 0.4304 - accuracy: 0.7943\n",
            "Epoch 7/150\n",
            "77/77 [==============================] - 0s 1ms/step - loss: 0.4265 - accuracy: 0.8047\n",
            "Epoch 8/150\n",
            "77/77 [==============================] - 0s 1ms/step - loss: 0.4148 - accuracy: 0.8047\n",
            "Epoch 9/150\n",
            "77/77 [==============================] - 0s 1ms/step - loss: 0.4257 - accuracy: 0.7891\n",
            "Epoch 10/150\n",
            "77/77 [==============================] - 0s 1ms/step - loss: 0.4158 - accuracy: 0.7969\n",
            "Epoch 11/150\n",
            "77/77 [==============================] - 0s 1ms/step - loss: 0.4330 - accuracy: 0.7891\n",
            "Epoch 12/150\n",
            "77/77 [==============================] - 0s 1ms/step - loss: 0.4318 - accuracy: 0.7734\n",
            "Epoch 13/150\n",
            "77/77 [==============================] - 0s 1ms/step - loss: 0.4111 - accuracy: 0.8125\n",
            "Epoch 14/150\n",
            "77/77 [==============================] - 0s 1ms/step - loss: 0.4152 - accuracy: 0.7891\n",
            "Epoch 15/150\n",
            "77/77 [==============================] - 0s 1ms/step - loss: 0.4320 - accuracy: 0.7839\n",
            "Epoch 16/150\n",
            "77/77 [==============================] - 0s 1ms/step - loss: 0.4170 - accuracy: 0.8073\n",
            "Epoch 17/150\n",
            "77/77 [==============================] - 0s 1ms/step - loss: 0.4306 - accuracy: 0.7865\n",
            "Epoch 18/150\n",
            "77/77 [==============================] - 0s 1ms/step - loss: 0.4254 - accuracy: 0.7956\n",
            "Epoch 19/150\n",
            "77/77 [==============================] - 0s 1ms/step - loss: 0.4140 - accuracy: 0.8034\n",
            "Epoch 20/150\n",
            "77/77 [==============================] - 0s 1ms/step - loss: 0.4238 - accuracy: 0.7943\n",
            "Epoch 21/150\n",
            "77/77 [==============================] - 0s 1ms/step - loss: 0.4206 - accuracy: 0.7995\n",
            "Epoch 22/150\n",
            "77/77 [==============================] - 0s 2ms/step - loss: 0.4068 - accuracy: 0.8086\n",
            "Epoch 23/150\n",
            "77/77 [==============================] - 0s 1ms/step - loss: 0.4126 - accuracy: 0.7969\n",
            "Epoch 24/150\n",
            "77/77 [==============================] - 0s 1ms/step - loss: 0.4265 - accuracy: 0.8021\n",
            "Epoch 25/150\n",
            "77/77 [==============================] - 0s 1ms/step - loss: 0.4282 - accuracy: 0.7956\n",
            "Epoch 26/150\n",
            "77/77 [==============================] - 0s 1ms/step - loss: 0.4136 - accuracy: 0.8047\n",
            "Epoch 27/150\n",
            "77/77 [==============================] - 0s 1ms/step - loss: 0.4182 - accuracy: 0.8073\n",
            "Epoch 28/150\n",
            "77/77 [==============================] - 0s 1ms/step - loss: 0.4146 - accuracy: 0.8047\n",
            "Epoch 29/150\n",
            "77/77 [==============================] - 0s 1ms/step - loss: 0.4247 - accuracy: 0.7852\n",
            "Epoch 30/150\n",
            "77/77 [==============================] - 0s 1ms/step - loss: 0.4232 - accuracy: 0.8008\n",
            "Epoch 31/150\n",
            "77/77 [==============================] - 0s 1ms/step - loss: 0.4299 - accuracy: 0.7982\n",
            "Epoch 32/150\n",
            "77/77 [==============================] - 0s 1ms/step - loss: 0.4083 - accuracy: 0.8151\n",
            "Epoch 33/150\n",
            "77/77 [==============================] - 0s 1ms/step - loss: 0.4329 - accuracy: 0.7839\n",
            "Epoch 34/150\n",
            "77/77 [==============================] - 0s 2ms/step - loss: 0.4254 - accuracy: 0.7865\n",
            "Epoch 35/150\n",
            "77/77 [==============================] - 0s 1ms/step - loss: 0.4336 - accuracy: 0.7904\n",
            "Epoch 36/150\n",
            "77/77 [==============================] - 0s 1ms/step - loss: 0.4406 - accuracy: 0.7865\n",
            "Epoch 37/150\n",
            "77/77 [==============================] - 0s 1ms/step - loss: 0.4220 - accuracy: 0.7982\n",
            "Epoch 38/150\n",
            "77/77 [==============================] - 0s 1ms/step - loss: 0.4212 - accuracy: 0.8021\n",
            "Epoch 39/150\n",
            "77/77 [==============================] - 0s 1ms/step - loss: 0.4301 - accuracy: 0.7969\n",
            "Epoch 40/150\n",
            "77/77 [==============================] - 0s 1ms/step - loss: 0.4091 - accuracy: 0.8151\n",
            "Epoch 41/150\n",
            "77/77 [==============================] - 0s 1ms/step - loss: 0.4151 - accuracy: 0.8021\n",
            "Epoch 42/150\n",
            "77/77 [==============================] - 0s 1ms/step - loss: 0.4116 - accuracy: 0.8060\n",
            "Epoch 43/150\n",
            "77/77 [==============================] - 0s 1ms/step - loss: 0.4102 - accuracy: 0.8099\n",
            "Epoch 44/150\n",
            "77/77 [==============================] - 0s 1ms/step - loss: 0.4106 - accuracy: 0.8086\n",
            "Epoch 45/150\n",
            "77/77 [==============================] - 0s 1ms/step - loss: 0.4061 - accuracy: 0.8138\n",
            "Epoch 46/150\n",
            "77/77 [==============================] - 0s 1ms/step - loss: 0.4171 - accuracy: 0.7943\n",
            "Epoch 47/150\n",
            "77/77 [==============================] - 0s 1ms/step - loss: 0.4100 - accuracy: 0.7904\n",
            "Epoch 48/150\n",
            "77/77 [==============================] - 0s 1ms/step - loss: 0.4042 - accuracy: 0.8086\n",
            "Epoch 49/150\n",
            "77/77 [==============================] - 0s 1ms/step - loss: 0.4199 - accuracy: 0.7943\n",
            "Epoch 50/150\n",
            "77/77 [==============================] - 0s 1ms/step - loss: 0.4066 - accuracy: 0.8099\n",
            "Epoch 51/150\n",
            "77/77 [==============================] - 0s 1ms/step - loss: 0.4001 - accuracy: 0.8203\n",
            "Epoch 52/150\n",
            "77/77 [==============================] - 0s 1ms/step - loss: 0.4103 - accuracy: 0.7969\n",
            "Epoch 53/150\n",
            "77/77 [==============================] - 0s 1ms/step - loss: 0.4099 - accuracy: 0.8190\n",
            "Epoch 54/150\n",
            "77/77 [==============================] - 0s 1ms/step - loss: 0.3907 - accuracy: 0.8060\n",
            "Epoch 55/150\n",
            "77/77 [==============================] - 0s 1ms/step - loss: 0.4238 - accuracy: 0.7891\n",
            "Epoch 56/150\n",
            "77/77 [==============================] - 0s 1ms/step - loss: 0.3992 - accuracy: 0.8008\n",
            "Epoch 57/150\n",
            "77/77 [==============================] - 0s 1ms/step - loss: 0.4034 - accuracy: 0.7969\n",
            "Epoch 58/150\n",
            "77/77 [==============================] - 0s 1ms/step - loss: 0.4168 - accuracy: 0.7982\n",
            "Epoch 59/150\n",
            "77/77 [==============================] - 0s 1ms/step - loss: 0.4113 - accuracy: 0.7930\n",
            "Epoch 60/150\n",
            "77/77 [==============================] - 0s 1ms/step - loss: 0.4060 - accuracy: 0.8021\n",
            "Epoch 61/150\n",
            "77/77 [==============================] - 0s 1ms/step - loss: 0.4027 - accuracy: 0.8060\n",
            "Epoch 62/150\n",
            "77/77 [==============================] - 0s 1ms/step - loss: 0.3958 - accuracy: 0.8060\n",
            "Epoch 63/150\n",
            "77/77 [==============================] - 0s 1ms/step - loss: 0.3987 - accuracy: 0.8086\n",
            "Epoch 64/150\n",
            "77/77 [==============================] - 0s 1ms/step - loss: 0.4077 - accuracy: 0.8034\n",
            "Epoch 65/150\n",
            "77/77 [==============================] - 0s 1ms/step - loss: 0.4038 - accuracy: 0.8034\n",
            "Epoch 66/150\n",
            "77/77 [==============================] - 0s 1ms/step - loss: 0.3910 - accuracy: 0.8151\n",
            "Epoch 67/150\n",
            "77/77 [==============================] - 0s 1ms/step - loss: 0.4003 - accuracy: 0.8008\n",
            "Epoch 68/150\n",
            "77/77 [==============================] - 0s 1ms/step - loss: 0.4030 - accuracy: 0.8047\n",
            "Epoch 69/150\n",
            "77/77 [==============================] - 0s 1ms/step - loss: 0.4048 - accuracy: 0.8021\n",
            "Epoch 70/150\n",
            "77/77 [==============================] - 0s 1ms/step - loss: 0.4043 - accuracy: 0.7956\n",
            "Epoch 71/150\n",
            "77/77 [==============================] - 0s 1ms/step - loss: 0.4129 - accuracy: 0.8138\n",
            "Epoch 72/150\n",
            "77/77 [==============================] - 0s 1ms/step - loss: 0.4066 - accuracy: 0.8099\n",
            "Epoch 73/150\n",
            "77/77 [==============================] - 0s 1ms/step - loss: 0.4024 - accuracy: 0.8073\n",
            "Epoch 74/150\n",
            "77/77 [==============================] - 0s 1ms/step - loss: 0.4004 - accuracy: 0.8060\n",
            "Epoch 75/150\n",
            "77/77 [==============================] - 0s 1ms/step - loss: 0.3984 - accuracy: 0.8112\n",
            "Epoch 76/150\n",
            "77/77 [==============================] - 0s 1ms/step - loss: 0.4070 - accuracy: 0.8021\n",
            "Epoch 77/150\n",
            "77/77 [==============================] - 0s 1ms/step - loss: 0.3999 - accuracy: 0.8099\n",
            "Epoch 78/150\n",
            "77/77 [==============================] - 0s 1ms/step - loss: 0.4052 - accuracy: 0.7969\n",
            "Epoch 79/150\n",
            "77/77 [==============================] - 0s 1ms/step - loss: 0.4150 - accuracy: 0.8060\n",
            "Epoch 80/150\n",
            "77/77 [==============================] - 0s 1ms/step - loss: 0.4101 - accuracy: 0.7969\n",
            "Epoch 81/150\n",
            "77/77 [==============================] - 0s 1ms/step - loss: 0.4028 - accuracy: 0.7956\n",
            "Epoch 82/150\n",
            "77/77 [==============================] - 0s 1ms/step - loss: 0.4080 - accuracy: 0.8138\n",
            "Epoch 83/150\n",
            "77/77 [==============================] - 0s 1ms/step - loss: 0.4011 - accuracy: 0.8125\n",
            "Epoch 84/150\n",
            "77/77 [==============================] - 0s 2ms/step - loss: 0.4058 - accuracy: 0.8086\n",
            "Epoch 85/150\n",
            "77/77 [==============================] - 0s 1ms/step - loss: 0.4329 - accuracy: 0.8073\n",
            "Epoch 86/150\n",
            "77/77 [==============================] - 0s 1ms/step - loss: 0.4117 - accuracy: 0.8112\n",
            "Epoch 87/150\n",
            "77/77 [==============================] - 0s 1ms/step - loss: 0.4118 - accuracy: 0.8034\n",
            "Epoch 88/150\n",
            "77/77 [==============================] - 0s 1ms/step - loss: 0.3975 - accuracy: 0.8099\n",
            "Epoch 89/150\n",
            "77/77 [==============================] - 0s 1ms/step - loss: 0.3971 - accuracy: 0.8164\n",
            "Epoch 90/150\n",
            "77/77 [==============================] - 0s 1ms/step - loss: 0.4023 - accuracy: 0.8073\n",
            "Epoch 91/150\n",
            "77/77 [==============================] - 0s 1ms/step - loss: 0.4054 - accuracy: 0.7943\n",
            "Epoch 92/150\n",
            "77/77 [==============================] - 0s 1ms/step - loss: 0.4105 - accuracy: 0.7969\n",
            "Epoch 93/150\n",
            "77/77 [==============================] - 0s 1ms/step - loss: 0.4109 - accuracy: 0.7943\n",
            "Epoch 94/150\n",
            "77/77 [==============================] - 0s 1ms/step - loss: 0.3968 - accuracy: 0.8073\n",
            "Epoch 95/150\n",
            "77/77 [==============================] - 0s 1ms/step - loss: 0.3988 - accuracy: 0.7956\n",
            "Epoch 96/150\n",
            "77/77 [==============================] - 0s 1ms/step - loss: 0.4013 - accuracy: 0.8060\n",
            "Epoch 97/150\n",
            "77/77 [==============================] - 0s 1ms/step - loss: 0.3951 - accuracy: 0.8164\n",
            "Epoch 98/150\n",
            "77/77 [==============================] - 0s 1ms/step - loss: 0.3923 - accuracy: 0.7982\n",
            "Epoch 99/150\n",
            "77/77 [==============================] - 0s 1ms/step - loss: 0.4170 - accuracy: 0.8112\n",
            "Epoch 100/150\n",
            "77/77 [==============================] - 0s 1ms/step - loss: 0.4009 - accuracy: 0.8060\n",
            "Epoch 101/150\n",
            "77/77 [==============================] - 0s 1ms/step - loss: 0.4002 - accuracy: 0.7956\n",
            "Epoch 102/150\n",
            "77/77 [==============================] - 0s 1ms/step - loss: 0.3958 - accuracy: 0.8138\n",
            "Epoch 103/150\n",
            "77/77 [==============================] - 0s 1ms/step - loss: 0.3840 - accuracy: 0.8190\n",
            "Epoch 104/150\n",
            "77/77 [==============================] - 0s 1ms/step - loss: 0.3900 - accuracy: 0.8190\n",
            "Epoch 105/150\n",
            "77/77 [==============================] - 0s 1ms/step - loss: 0.4032 - accuracy: 0.8138\n",
            "Epoch 106/150\n",
            "77/77 [==============================] - 0s 1ms/step - loss: 0.3840 - accuracy: 0.8125\n",
            "Epoch 107/150\n",
            "77/77 [==============================] - 0s 1ms/step - loss: 0.3992 - accuracy: 0.8021\n",
            "Epoch 108/150\n",
            "77/77 [==============================] - 0s 1ms/step - loss: 0.3909 - accuracy: 0.8268\n",
            "Epoch 109/150\n",
            "77/77 [==============================] - 0s 1ms/step - loss: 0.3941 - accuracy: 0.8203\n",
            "Epoch 110/150\n",
            "77/77 [==============================] - 0s 1ms/step - loss: 0.3890 - accuracy: 0.8203\n",
            "Epoch 111/150\n",
            "77/77 [==============================] - 0s 1ms/step - loss: 0.3923 - accuracy: 0.8177\n",
            "Epoch 112/150\n",
            "77/77 [==============================] - 0s 1ms/step - loss: 0.3924 - accuracy: 0.8073\n",
            "Epoch 113/150\n",
            "77/77 [==============================] - 0s 2ms/step - loss: 0.3915 - accuracy: 0.8151\n",
            "Epoch 114/150\n",
            "77/77 [==============================] - 0s 1ms/step - loss: 0.4094 - accuracy: 0.8047\n",
            "Epoch 115/150\n",
            "77/77 [==============================] - 0s 1ms/step - loss: 0.3961 - accuracy: 0.8099\n",
            "Epoch 116/150\n",
            "77/77 [==============================] - 0s 1ms/step - loss: 0.3855 - accuracy: 0.8268\n",
            "Epoch 117/150\n",
            "77/77 [==============================] - 0s 1ms/step - loss: 0.3902 - accuracy: 0.8138\n",
            "Epoch 118/150\n",
            "77/77 [==============================] - 0s 1ms/step - loss: 0.3884 - accuracy: 0.8125\n",
            "Epoch 119/150\n",
            "77/77 [==============================] - 0s 1ms/step - loss: 0.4097 - accuracy: 0.8047\n",
            "Epoch 120/150\n",
            "77/77 [==============================] - 0s 1ms/step - loss: 0.3934 - accuracy: 0.8203\n",
            "Epoch 121/150\n",
            "77/77 [==============================] - 0s 1ms/step - loss: 0.3920 - accuracy: 0.8047\n",
            "Epoch 122/150\n",
            "77/77 [==============================] - 0s 2ms/step - loss: 0.3855 - accuracy: 0.8112\n",
            "Epoch 123/150\n",
            "77/77 [==============================] - 0s 2ms/step - loss: 0.4046 - accuracy: 0.8073\n",
            "Epoch 124/150\n",
            "77/77 [==============================] - 0s 1ms/step - loss: 0.4015 - accuracy: 0.8086\n",
            "Epoch 125/150\n",
            "77/77 [==============================] - 0s 2ms/step - loss: 0.3975 - accuracy: 0.8112\n",
            "Epoch 126/150\n",
            "77/77 [==============================] - 0s 1ms/step - loss: 0.3894 - accuracy: 0.8216\n",
            "Epoch 127/150\n",
            "77/77 [==============================] - 0s 1ms/step - loss: 0.3939 - accuracy: 0.8099\n",
            "Epoch 128/150\n",
            "77/77 [==============================] - 0s 1ms/step - loss: 0.3940 - accuracy: 0.8164\n",
            "Epoch 129/150\n",
            "77/77 [==============================] - 0s 1ms/step - loss: 0.3865 - accuracy: 0.8125\n",
            "Epoch 130/150\n",
            "77/77 [==============================] - 0s 1ms/step - loss: 0.3918 - accuracy: 0.8255\n",
            "Epoch 131/150\n",
            "77/77 [==============================] - 0s 1ms/step - loss: 0.3921 - accuracy: 0.8099\n",
            "Epoch 132/150\n",
            "77/77 [==============================] - 0s 1ms/step - loss: 0.3839 - accuracy: 0.8255\n",
            "Epoch 133/150\n",
            "77/77 [==============================] - 0s 1ms/step - loss: 0.3940 - accuracy: 0.8151\n",
            "Epoch 134/150\n",
            "77/77 [==============================] - 0s 1ms/step - loss: 0.3929 - accuracy: 0.8138\n",
            "Epoch 135/150\n",
            "77/77 [==============================] - 0s 1ms/step - loss: 0.3812 - accuracy: 0.8151\n",
            "Epoch 136/150\n",
            "77/77 [==============================] - 0s 1ms/step - loss: 0.3806 - accuracy: 0.8177\n",
            "Epoch 137/150\n",
            "77/77 [==============================] - 0s 1ms/step - loss: 0.3998 - accuracy: 0.8047\n",
            "Epoch 138/150\n",
            "77/77 [==============================] - 0s 1ms/step - loss: 0.3838 - accuracy: 0.8242\n",
            "Epoch 139/150\n",
            "77/77 [==============================] - 0s 1ms/step - loss: 0.4014 - accuracy: 0.8047\n",
            "Epoch 140/150\n",
            "77/77 [==============================] - 0s 1ms/step - loss: 0.3728 - accuracy: 0.8281\n",
            "Epoch 141/150\n",
            "77/77 [==============================] - 0s 1ms/step - loss: 0.4029 - accuracy: 0.8008\n",
            "Epoch 142/150\n",
            "77/77 [==============================] - 0s 1ms/step - loss: 0.3871 - accuracy: 0.8021\n",
            "Epoch 143/150\n",
            "77/77 [==============================] - 0s 1ms/step - loss: 0.3909 - accuracy: 0.8125\n",
            "Epoch 144/150\n",
            "77/77 [==============================] - 0s 1ms/step - loss: 0.3925 - accuracy: 0.8086\n",
            "Epoch 145/150\n",
            "77/77 [==============================] - 0s 1ms/step - loss: 0.3829 - accuracy: 0.8047\n",
            "Epoch 146/150\n",
            "77/77 [==============================] - 0s 1ms/step - loss: 0.3812 - accuracy: 0.8216\n",
            "Epoch 147/150\n",
            "77/77 [==============================] - 0s 1ms/step - loss: 0.3896 - accuracy: 0.8190\n",
            "Epoch 148/150\n",
            "77/77 [==============================] - 0s 1ms/step - loss: 0.3874 - accuracy: 0.8177\n",
            "Epoch 149/150\n",
            "77/77 [==============================] - 0s 1ms/step - loss: 0.3849 - accuracy: 0.8073\n",
            "Epoch 150/150\n",
            "77/77 [==============================] - 0s 1ms/step - loss: 0.3846 - accuracy: 0.8086\n"
          ]
        }
      ]
    },
    {
      "cell_type": "code",
      "metadata": {
        "colab": {
          "base_uri": "https://localhost:8080/",
          "height": 465
        },
        "id": "Iua3f1_BSWgf",
        "outputId": "834f0fa0-9327-483b-d125-ac46a251c4a3"
      },
      "source": [
        "import matplotlib.pyplot as plt\n",
        "%matplotlib inline\n",
        "plt.figure(figsize=[9,7])\n",
        "plt.plot(history.history['loss'],'r',linewidth=3.0)\n",
        "plt.legend(['Training loss', 'Validation Loss'],fontsize=18)\n",
        "plt.xlabel('Epochs ',fontsize=16)\n",
        "plt.ylabel('Loss',fontsize=16)\n",
        "plt.title('Loss Curves',fontsize=16)\n",
        "plt.grid(True)"
      ],
      "execution_count": null,
      "outputs": [
        {
          "output_type": "display_data",
          "data": {
            "image/png": "[encoded data removed]",
            "text/plain": [
              "<Figure size 648x504 with 1 Axes>"
            ]
          },
          "metadata": {
            "needs_background": "light"
          }
        }
      ]
    },
    {
      "cell_type": "markdown",
      "metadata": {
        "id": "z-LzXiA6MCZb"
      },
      "source": [
        "We have trained our neural network on the entire dataset and we can evaluate the performance of the network on the same dataset.\n",
        "\n",
        "This will only give us an idea of how well we have modeled the dataset (e.g. train accuracy), but no idea of how well the algorithm might perform on new data. "
      ]
    },
    {
      "cell_type": "code",
      "metadata": {
        "colab": {
          "base_uri": "https://localhost:8080/"
        },
        "id": "1xKCx9wrMCZb",
        "outputId": "6c0eacad-0c05-4bce-96e1-0d48b1438329"
      },
      "source": [
        "# evaluate the keras model\n",
        "_, accuracy = model.evaluate(X, y)\n",
        "print('Accuracy: %.2f' % (accuracy*100))"
      ],
      "execution_count": null,
      "outputs": [
        {
          "output_type": "stream",
          "name": "stdout",
          "text": [
            "24/24 [==============================] - 0s 978us/step - loss: 0.4121 - accuracy: 0.7995\n",
            "Accuracy: 79.95\n"
          ]
        }
      ]
    },
    {
      "cell_type": "markdown",
      "metadata": {
        "id": "iYAU-7IAMCZc"
      },
      "source": [
        "We can see that most rows are correctly predicted. In fact, we would expect about 76% of the rows to be correctly predicted based on our estimated performance of the model in the previous section."
      ]
    },
    {
      "cell_type": "code",
      "metadata": {
        "colab": {
          "base_uri": "https://localhost:8080/"
        },
        "id": "3xb0kk0WMCZc",
        "outputId": "e0c292fd-2e9d-4e09-904a-3275445cd8c9"
      },
      "source": [
        "predict_x=model.predict(X) \n",
        "predictions = np.round(predict_x).astype(int)\n",
        "\n",
        "\n",
        "for i in range(20):\n",
        "    print(' %-55s ENTRY PREDICTED => %d (EXPECTED TO BE %d)  ' % (X[i].tolist(), predictions[i], y[i]))"
      ],
      "execution_count": null,
      "outputs": [
        {
          "output_type": "stream",
          "name": "stdout",
          "text": [
            " [6.0, 148.0, 72.0, 35.0, 0.0, 33.6, 0.627, 50.0]        ENTRY PREDICTED => 1 (EXPECTED TO BE 1)  \n",
            " [1.0, 85.0, 66.0, 29.0, 0.0, 26.6, 0.351, 31.0]         ENTRY PREDICTED => 0 (EXPECTED TO BE 0)  \n",
            " [8.0, 183.0, 64.0, 0.0, 0.0, 23.3, 0.672, 32.0]         ENTRY PREDICTED => 1 (EXPECTED TO BE 1)  \n",
            " [1.0, 89.0, 66.0, 23.0, 94.0, 28.1, 0.167, 21.0]        ENTRY PREDICTED => 0 (EXPECTED TO BE 0)  \n",
            " [0.0, 137.0, 40.0, 35.0, 168.0, 43.1, 2.288, 33.0]      ENTRY PREDICTED => 1 (EXPECTED TO BE 1)  \n",
            " [5.0, 116.0, 74.0, 0.0, 0.0, 25.6, 0.201, 30.0]         ENTRY PREDICTED => 0 (EXPECTED TO BE 0)  \n",
            " [3.0, 78.0, 50.0, 32.0, 88.0, 31.0, 0.248, 26.0]        ENTRY PREDICTED => 0 (EXPECTED TO BE 1)  \n",
            " [10.0, 115.0, 0.0, 0.0, 0.0, 35.3, 0.134, 29.0]         ENTRY PREDICTED => 1 (EXPECTED TO BE 0)  \n",
            " [2.0, 197.0, 70.0, 45.0, 543.0, 30.5, 0.158, 53.0]      ENTRY PREDICTED => 1 (EXPECTED TO BE 1)  \n",
            " [8.0, 125.0, 96.0, 0.0, 0.0, 0.0, 0.232, 54.0]          ENTRY PREDICTED => 0 (EXPECTED TO BE 1)  \n",
            " [4.0, 110.0, 92.0, 0.0, 0.0, 37.6, 0.191, 30.0]         ENTRY PREDICTED => 0 (EXPECTED TO BE 0)  \n",
            " [10.0, 168.0, 74.0, 0.0, 0.0, 38.0, 0.537, 34.0]        ENTRY PREDICTED => 1 (EXPECTED TO BE 1)  \n",
            " [10.0, 139.0, 80.0, 0.0, 0.0, 27.1, 1.441, 57.0]        ENTRY PREDICTED => 0 (EXPECTED TO BE 0)  \n",
            " [1.0, 189.0, 60.0, 23.0, 846.0, 30.1, 0.398, 59.0]      ENTRY PREDICTED => 0 (EXPECTED TO BE 1)  \n",
            " [5.0, 166.0, 72.0, 19.0, 175.0, 25.8, 0.587, 51.0]      ENTRY PREDICTED => 1 (EXPECTED TO BE 1)  \n",
            " [7.0, 100.0, 0.0, 0.0, 0.0, 30.0, 0.484, 32.0]          ENTRY PREDICTED => 0 (EXPECTED TO BE 1)  \n",
            " [0.0, 118.0, 84.0, 47.0, 230.0, 45.8, 0.551, 31.0]      ENTRY PREDICTED => 0 (EXPECTED TO BE 1)  \n",
            " [7.0, 107.0, 74.0, 0.0, 0.0, 29.6, 0.254, 31.0]         ENTRY PREDICTED => 0 (EXPECTED TO BE 1)  \n",
            " [1.0, 103.0, 30.0, 38.0, 83.0, 43.3, 0.183, 33.0]       ENTRY PREDICTED => 0 (EXPECTED TO BE 0)  \n",
            " [1.0, 115.0, 70.0, 30.0, 96.0, 34.6, 0.529, 32.0]       ENTRY PREDICTED => 0 (EXPECTED TO BE 1)  \n"
          ]
        }
      ]
    },
    {
      "cell_type": "code",
      "metadata": {
        "id": "nuHaJSetMCZc"
      },
      "source": [],
      "execution_count": null,
      "outputs": []
    }
  ]
}